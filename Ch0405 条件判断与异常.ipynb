{
 "cells": [
  {
   "cell_type": "markdown",
   "id": "d1290a9e",
   "metadata": {},
   "source": [
    "# 第4章 条件判断\n",
    "\n",
    "## 4.1 判断运算符\n",
    "\n",
    "对于所以自定义类，默认都为True，当然也可以通过自定义`__bool__`魔术方法，定制判定逻辑。\n",
    "\n",
    "对于`None True False`（单例模式），要使用`is`关键字，而不是`==`；前者关注的是`id()`，而后者关注的是对象的值是否相等。\n",
    "\n",
    "对于自定义类来说，在进行`==`判断时，可通过实现`__eq__`魔术方法。\n",
    "\n"
   ]
  },
  {
   "cell_type": "code",
   "execution_count": 1,
   "id": "56a41022",
   "metadata": {},
   "outputs": [],
   "source": [
    "class EqualWithAnything:\n",
    "    \"\"\"与任何对象相等\"\"\"\n",
    "    \n",
    "    def __eq__(self, other):\n",
    "        # other 为实例比较时 == 操作符的 右边的对象\n",
    "        return True"
   ]
  },
  {
   "cell_type": "markdown",
   "id": "58be4e55",
   "metadata": {},
   "source": [
    "`and` 和 `or` 的运算优先级不一样；`and`优先级高于`or`;且 `or`是短路运算符。"
   ]
  },
  {
   "cell_type": "code",
   "execution_count": 1,
   "id": "a384b838",
   "metadata": {},
   "outputs": [
    {
     "data": {
      "text/plain": [
       "False"
      ]
     },
     "execution_count": 1,
     "metadata": {},
     "output_type": "execute_result"
    }
   ],
   "source": [
    "(True or False) and False"
   ]
  },
  {
   "cell_type": "code",
   "execution_count": 3,
   "id": "4a42e8cc",
   "metadata": {},
   "outputs": [
    {
     "data": {
      "text/plain": [
       "True"
      ]
     },
     "execution_count": 3,
     "metadata": {},
     "output_type": "execute_result"
    }
   ],
   "source": [
    "True or False and False"
   ]
  },
  {
   "cell_type": "markdown",
   "id": "29d6ee1a",
   "metadata": {},
   "source": [
    "在实践中，我们应该留意`all()`和`any()`内置函数：接收一个可迭代对象，并返回对应的bool值。因此有些代码就可以更加简洁和符合直觉："
   ]
  },
  {
   "cell_type": "code",
   "execution_count": 17,
   "id": "3bad831f",
   "metadata": {},
   "outputs": [
    {
     "data": {
      "text/plain": [
       "False"
      ]
     },
     "execution_count": 17,
     "metadata": {},
     "output_type": "execute_result"
    }
   ],
   "source": [
    "def all_numbers_gt_10(numbers):\n",
    "    for n in numbers:\n",
    "        if n <= 10:\n",
    "            return False\n",
    "    return True\n",
    "    \n",
    "all(n<=10 for n in numbers)"
   ]
  },
  {
   "cell_type": "markdown",
   "id": "bb840b5a",
   "metadata": {},
   "source": [
    "## 4.2 范围类分支优化\n",
    "\n",
    "我们经常会遇到多个写分支的情况，比如说将学生成绩转换为ABCD等级，正常的写法，可能就是写一些条件判断语句。\n",
    "\n",
    "但是针对此场景，还有更加优化的写法，那就是使用`bisect`内置模块。`bisect.bisect(a, x)`此模块操作的容器a一定是*有序的*，返回下标i，表示将元素x按照i的位置插入容器，并不会破坏原有容器的有序性。\n",
    "\n",
    "基于此特性，我们可以优化范围类分支的书写方式。可能有个疑问，如果待分类数字刚好是处于边界上，那么如何判定呢？\n",
    "\n",
    "- bisect_left 将x插入到a中相同元素的左边\n",
    "- bisect_right 将x插入到a中相同元素的右边\n",
    "- bisect  将x插入到a中相同元素的右边\n",
    "\n",
    "> 个人感觉如果不会有边界判定不一致的情况，且需求变动不大的时候可以用。总之 可有可无的一种特性。"
   ]
  },
  {
   "cell_type": "code",
   "execution_count": 33,
   "id": "3a98515e",
   "metadata": {},
   "outputs": [
    {
     "data": {
      "text/plain": [
       "'D'"
      ]
     },
     "execution_count": 33,
     "metadata": {},
     "output_type": "execute_result"
    }
   ],
   "source": [
    "import bisect \n",
    "\n",
    "def get_score_rank(int_score):\n",
    "    score_point = (60,70,80,90)\n",
    "    rank = bisect.bisect_right(score_point, int(int_score))\n",
    "    \n",
    "    grades = ('E','D','C','B','A')\n",
    "    return grades[rank]\n",
    "\n",
    "get_score_rank(60)"
   ]
  },
  {
   "cell_type": "markdown",
   "id": "9b2b27ef",
   "metadata": {},
   "source": [
    "## 4.3 降低分支相似性\n",
    "\n",
    "我们应该充分利用“一等公民”的特性，无感的应用工厂模式，提高代码可读性，参考如下代码，及优化后的样子："
   ]
  },
  {
   "cell_type": "code",
   "execution_count": null,
   "id": "43b39d0f",
   "metadata": {},
   "outputs": [],
   "source": [
    "# 优化前\n",
    "def before_foo(data):\n",
    "    if user.exist:\n",
    "        create_user_profile(\n",
    "            username = data.username,\n",
    "            gender = data.gender,\n",
    "            email = data.email,\n",
    "            age = data.age,\n",
    "            address = data.address,\n",
    "            pointers = 0,\n",
    "            created = now(),\n",
    "        )\n",
    "    else:\n",
    "        update_user_profile(\n",
    "            username = data.username,\n",
    "            gender = data.gender,\n",
    "            email = data.email,\n",
    "            age = data.age,\n",
    "            address = data.address,\n",
    "            updated = now(),\n",
    "        )\n",
    "        \n",
    "# 优化后, 更能感知两者的差异性。\n",
    "def after_foo(data):\n",
    "    if user.exist:\n",
    "        _update_or_create = create_user_profile\n",
    "        exter_args = {'pointers': 0, 'created': now()}\n",
    "    else:\n",
    "        _update_or_create = update_user_profile\n",
    "        exter_args = {'updated': now()}\n",
    "\n",
    "    _update_or_create(\n",
    "        username = data.username,\n",
    "        gender = data.gender,\n",
    "        email = data.email,\n",
    "        age = data.age,\n",
    "        address = data.address,\n",
    "        **exter_args,\n",
    "    )\n",
    "    "
   ]
  },
  {
   "cell_type": "markdown",
   "id": "14607dfa",
   "metadata": {},
   "source": [
    "# 第5章 异常与错误处理\n",
    "\n",
    "Python编程有两种风格，一种是LBYL一种是EAFP；前者是预先想各种条件判断，后者是不做任何事前检查，直接执行操作，并用`try`捕获异常。毕竟我们的目的是执行目的，而不是每次check 边界条件。\n",
    "\n",
    "Python社区更加喜爱EAFP风格编码，每次直觉驱使写if/else 进行错误判断时，考虑使用`try`的 EAFP 风格。Pythonista更喜欢EAFP。\n",
    "\n",
    "比如以下两种风格的代码："
   ]
  },
  {
   "cell_type": "code",
   "execution_count": 3,
   "id": "27d7f8b7",
   "metadata": {},
   "outputs": [
    {
     "name": "stdout",
     "output_type": "stream",
     "text": [
      "Unable to perform incr for value:\"[11]\", error: can only concatenate list (not \"int\") to list\n",
      "\n"
     ]
    }
   ],
   "source": [
    "# LBYL\n",
    "def add_one(value):\n",
    "    if isinstance(value, int):\n",
    "        return value + 1\n",
    "    elif isinstance(value, str) and value.isdigit():\n",
    "        return int(value) + 1\n",
    "    else:\n",
    "        raise TypeError(\"错误\")\n",
    "\n",
    "# EAFP\n",
    "def foo_add_one(value):\n",
    "    try:\n",
    "        return value + 1\n",
    "    except (TypeError, ValueError) as e:\n",
    "        print(f'Unable to perform incr for value:\"{value}\", error: {e}') \n",
    "    finally:\n",
    "        print('')\n",
    "\n",
    "foo_add_one([11])"
   ]
  },
  {
   "cell_type": "markdown",
   "id": "cc8b844d",
   "metadata": {},
   "source": [
    "## 5.1 try\n",
    "\n",
    "1. 父类异常靠后捕获，优先清晰异常；\n",
    "2. else 分支，只在没有异常时执行，但是如果有`return`或者`break`也不会执行；`finally`以上情况也会执行。\n",
    "3. 空`raise`语句，可以抛出异常，交由上层捕获。\n"
   ]
  },
  {
   "cell_type": "code",
   "execution_count": 13,
   "id": "cb4bb89f",
   "metadata": {},
   "outputs": [
    {
     "name": "stdout",
     "output_type": "stream",
     "text": [
      "表面上我捕获了\n",
      "其实我还是往上抛了\n"
     ]
    }
   ],
   "source": [
    "def incr_by_key(d, key):\n",
    "    try:\n",
    "        d[key] += 1\n",
    "    except TypeError:\n",
    "        print('表面上我捕获了')\n",
    "        raise\n",
    "\n",
    "def main():\n",
    "    str_dict = {\"my\":\"rohan\"} \n",
    "    try:\n",
    "        incr_by_key(str_dict, 'my')\n",
    "    except TypeError:\n",
    "        print(\"其实我还是往上抛了\")\n",
    "        \n",
    "main()"
   ]
  },
  {
   "cell_type": "markdown",
   "id": "ac3f433c",
   "metadata": {},
   "source": [
    "## 5.2 自定义异常 \n",
    "\n",
    "对于函数中的异常，它不像是返回值，它在被捕获前会层层上报，这个特性让代码更加灵活，但也带来了更大的风险。如果缺少一个顶级的统一异常处理逻辑，某个忽视的异常会弄垮这个程序。"
   ]
  },
  {
   "cell_type": "code",
   "execution_count": 33,
   "id": "579d169a",
   "metadata": {},
   "outputs": [
    {
     "ename": "CreateItemError",
     "evalue": "item err",
     "output_type": "error",
     "traceback": [
      "\u001b[0;31m---------------------------------------------------------------------------\u001b[0m",
      "\u001b[0;31mCreateItemError\u001b[0m                           Traceback (most recent call last)",
      "Input \u001b[0;32mIn [33]\u001b[0m, in \u001b[0;36m<cell line: 11>\u001b[0;34m()\u001b[0m\n\u001b[1;32m      8\u001b[0m     \u001b[38;5;28;01mif\u001b[39;00m \u001b[38;5;28;01mTrue\u001b[39;00m:\n\u001b[1;32m      9\u001b[0m         \u001b[38;5;28;01mraise\u001b[39;00m CreateItemError(\u001b[38;5;124m'\u001b[39m\u001b[38;5;124mitem err\u001b[39m\u001b[38;5;124m'\u001b[39m)\n\u001b[0;32m---> 11\u001b[0m \u001b[43mcreate_itme\u001b[49m\u001b[43m(\u001b[49m\u001b[38;5;241;43m33\u001b[39;49m\u001b[43m)\u001b[49m\n",
      "Input \u001b[0;32mIn [33]\u001b[0m, in \u001b[0;36mcreate_itme\u001b[0;34m(name)\u001b[0m\n\u001b[1;32m      5\u001b[0m \u001b[38;5;124;03m\"\"\"创建新的Item\u001b[39;00m\n\u001b[1;32m      6\u001b[0m \u001b[38;5;124;03m:raise: 当无法创建时抛出CreateItemError\u001b[39;00m\n\u001b[1;32m      7\u001b[0m \u001b[38;5;124;03m\"\"\"\u001b[39;00m\n\u001b[1;32m      8\u001b[0m \u001b[38;5;28;01mif\u001b[39;00m \u001b[38;5;28;01mTrue\u001b[39;00m:\n\u001b[0;32m----> 9\u001b[0m     \u001b[38;5;28;01mraise\u001b[39;00m CreateItemError(\u001b[38;5;124m'\u001b[39m\u001b[38;5;124mitem err\u001b[39m\u001b[38;5;124m'\u001b[39m)\n",
      "\u001b[0;31mCreateItemError\u001b[0m: item err"
     ]
    }
   ],
   "source": [
    "class CreateItemError(Exception):\n",
    "    \"\"\"创建Item失败\"\"\"\n",
    "    \n",
    "def create_itme(name):\n",
    "    \"\"\"创建新的Item\n",
    "    :raise: 当无法创建时抛出CreateItemError\n",
    "    \"\"\"\n",
    "    if True:\n",
    "        raise CreateItemError('item err')\n",
    "        \n",
    "create_itme(33)"
   ]
  },
  {
   "cell_type": "markdown",
   "id": "84206de7",
   "metadata": {},
   "source": [
    "## 5.3 上下文管理器减少样本代码\n",
    "\n",
    "上下文管理器定义了“进入”和“退出”动作的特殊对象：`__enter__`和`__exit__`； 其中`__enter__`魔术方法返回的对象即`with as object`中的`object`\n",
    "\n",
    "`with`语句和`try`结合，减少的样本代码如下：\n",
    "\n",
    "1. 替代finally\n",
    "2. 忽略已知异常\n",
    "\n",
    "### 5.3.1 替代finally\n",
    "\n",
    "`finally`经常用作资源清理类工作，比如关闭数据库连接。我们就可以使用 `with`替代。\n",
    "\n",
    "其中`__exit__`接收的三个参数：`(exc_type, exc_value, traceback)`，如果`with`语句中没有报错，那么这三个参数都为空。如果报错：\n",
    "- exc_type：异常类型\n",
    "- exc_value：异常对象\n",
    "- traceback：错误的堆栈对象\n",
    "\n",
    "\n",
    "此时，如果`__exit__` 返回 `True`那么将忽略异常；如果返回`False`，那么异常正常抛出，需要在`with`代码中写`try`捕获。"
   ]
  },
  {
   "cell_type": "code",
   "execution_count": null,
   "id": "1be17ae4",
   "metadata": {},
   "outputs": [],
   "source": [
    "# 正常写法\n",
    "def create_conn(*args, **kwargs):\n",
    "    pass\n",
    "\n",
    "conn = create_conn('127.0.0.1', '8080', timeout=None)\n",
    "try:\n",
    "    conn.send_text(\"hello\")\n",
    "except Exception as e:\n",
    "    print(e)\n",
    "finally:\n",
    "    conn.close()\n",
    "    \n",
    "    \n",
    "    \n",
    "# 写一个 上下文管理器\n",
    "class CreateConn:\n",
    "    def __init__(self, host, port, timeout=None):\n",
    "        self.conn = create_conn(host, port, timeout=None)\n",
    "        \n",
    "    def __enter__(self):\n",
    "        return self.conn\n",
    "    \n",
    "    def __exit__(self, exc_type, exc_value, traceback):\n",
    "        self.conn.close()\n",
    "        # 如果有异常不忽略\n",
    "        return False\n",
    "    \n",
    "with CreateConn(host, port, timeout=None) as conn:\n",
    "    try:\n",
    "        conn.send_text('hello')\n",
    "    except Exception as e:\n",
    "        print(e)"
   ]
  },
  {
   "cell_type": "markdown",
   "id": "727d001b",
   "metadata": {},
   "source": [
    "注意，此处的“`with`语句中没有报错”，指的是外部代码，with语句下的代码。在`__exit__` 中报错的代码不会在这里被捕获。"
   ]
  },
  {
   "cell_type": "code",
   "execution_count": 32,
   "id": "49d55281",
   "metadata": {},
   "outputs": [
    {
     "name": "stdout",
     "output_type": "stream",
     "text": [
      "<class 'AttributeError'>  <traceback object at 0x107dda1c0>\n"
     ]
    }
   ],
   "source": [
    "class MyWith:\n",
    "    def __init__(self, name):\n",
    "        self.name = name\n",
    "        \n",
    "    def __enter__(self):\n",
    "        return self.name\n",
    "    \n",
    "    def __exit__(self, exc_type, exc_value, traceback):\n",
    "        # 如果有异常不忽略\n",
    "        print(exc_type,exc_value, traceback )\n",
    "        if exc_type == AttributeError:\n",
    "            return True\n",
    "        else:\n",
    "            return False\n",
    "    \n",
    "with MyWith('啊') as test:\n",
    "    raise AttributeError\n",
    "    # 抛出异常后，直接exit了，后面的代码并没有运行。\n",
    "    print(test)"
   ]
  },
  {
   "cell_type": "markdown",
   "id": "55e74caa",
   "metadata": {},
   "source": [
    "### 5.3.2 contextmanger 装饰器\n",
    "\n",
    "为了简化with上下文管理工具，Python提供了一个装饰器`contextmanger`来简化此工作。`@contextmanger`装饰器位于内置模块`contextlib`下，它可以把任何一个生成器函数直接转换成上下文管理器。\n",
    "\n",
    "被装饰的函数在被调用时，必须返回一个 generator 迭代器。 这个迭代器必须只 `yield` 一个值出来，这个值会被用在 `with` 语句中，绑定到 `as` 后面的变量，如果给定了的话。\n",
    "\n",
    "当生成器发生 `yield` 时，嵌套在 `with` 语句中的语句体会被执行。 语句体执行完毕离开之后，该生成器将被恢复执行。 如果在该语句体中发生了未处理的异常，则该异常会在生成器发生 yield 时重新被引发。 因此，你可以使用 try...except...finally 语句来捕获该异常（如果有的话），或确保进行了一些清理。 如果仅出于记录日志或执行某些操作（而非完全抑制异常）的目的捕获了异常，生成器必须重新引发该异常。 否则生成器的上下文管理器将向 with 语句指示该异常已经被处理，程序将立即在 with 语句之后恢复并继续执行。"
   ]
  },
  {
   "cell_type": "code",
   "execution_count": 42,
   "id": "219881ac",
   "metadata": {},
   "outputs": [
    {
     "name": "stdout",
     "output_type": "stream",
     "text": [
      "类似于类构造方法中的__init__\n",
      "我是foo函数里面\n",
      "类似于类构造方法中的__enter__\n",
      "这是外部循环体\n",
      "对外部循环体的异常进行处理\n",
      " Code to release resource\n"
     ]
    }
   ],
   "source": [
    "from contextlib import contextmanager\n",
    "\n",
    "def foo(*args, **kwds):\n",
    "    print(\"我是foo函数里面\")\n",
    "    return [1, 2, 3]\n",
    "\n",
    "@contextmanager\n",
    "def managed_resource(*args, **kwds):\n",
    "    # Code to acquire resource, e.g.:\n",
    "    print(\"类似于类构造方法中的__init__\")\n",
    "    resource = foo(*args, **kwds)\n",
    "    try:\n",
    "        print(\"类似于类构造方法中的__enter__\")\n",
    "        yield resource\n",
    "        print(\"类似于类构造方法中的__exit__\")\n",
    "    except TypeError as e:\n",
    "        print(\"对外部循环体的异常进行处理\")\n",
    "    finally:\n",
    "        # Code to release resource, e.g.:\n",
    "        print(\" Code to release resource\")\n",
    "\n",
    "with managed_resource(timeout=3600) as resource:\n",
    "    print(\"这是外部循环体\")\n",
    "    raise TypeError"
   ]
  },
  {
   "cell_type": "markdown",
   "id": "adae7bc9",
   "metadata": {},
   "source": [
    "## 5.4 自定义异常\n",
    "\n",
    "自定义异常不需要遵守太多规范：\n",
    "1. 继承`Exception`，而不是`BaseException`;\n",
    "2. 异常类名以`Error`或者`Exception`结尾;\n",
    "3. 保证调用方能够清晰区分各种异常。\n",
    "\n",
    "其他小技巧：\n",
    "1. 自定义异常类时，可以用类之间的继承，从而设计更加精准的异常子类；\n",
    "2. 可以创建包含“错误代码”等额外属性的异常类。\n"
   ]
  },
  {
   "cell_type": "code",
   "execution_count": 45,
   "id": "1c1e7c2e",
   "metadata": {},
   "outputs": [
    {
     "ename": "CreateItemFullError",
     "evalue": "Item_Full-Item_Full",
     "output_type": "error",
     "traceback": [
      "\u001b[0;31m---------------------------------------------------------------------------\u001b[0m",
      "\u001b[0;31mCreateItemFullError\u001b[0m                       Traceback (most recent call last)",
      "Input \u001b[0;32mIn [45]\u001b[0m, in \u001b[0;36m<cell line: 16>\u001b[0;34m()\u001b[0m\n\u001b[1;32m     12\u001b[0m \u001b[38;5;28;01mclass\u001b[39;00m \u001b[38;5;21;01mCreateItemFullError\u001b[39;00m(CreateItemError):\n\u001b[1;32m     13\u001b[0m     \u001b[38;5;124;03m\"\"\"当前Item已满\"\"\"\u001b[39;00m\n\u001b[0;32m---> 16\u001b[0m \u001b[38;5;28;01mraise\u001b[39;00m CreateItemFullError(\u001b[38;5;124m\"\u001b[39m\u001b[38;5;124mItem_Full\u001b[39m\u001b[38;5;124m\"\u001b[39m, \u001b[38;5;124m\"\u001b[39m\u001b[38;5;124mItem_Full\u001b[39m\u001b[38;5;124m\"\u001b[39m)\n\u001b[1;32m     17\u001b[0m \u001b[38;5;28;01mraise\u001b[39;00m CreateItemError(\u001b[38;5;124m\"\u001b[39m\u001b[38;5;124mname_too_long\u001b[39m\u001b[38;5;124m\"\u001b[39m, \u001b[38;5;124m\"\u001b[39m\u001b[38;5;124mtoooooo long\u001b[39m\u001b[38;5;124m\"\u001b[39m)\n",
      "\u001b[0;31mCreateItemFullError\u001b[0m: Item_Full-Item_Full"
     ]
    }
   ],
   "source": [
    "class CreateItemError(Exception):\n",
    "    \"\"\"创建Item失败\n",
    "    :param error_code: 错误代码\n",
    "    :param message: 错误信息\n",
    "    \"\"\"\n",
    "    \n",
    "    def __init__(self, error_code, message):\n",
    "        self.error_code = error_code\n",
    "        self.message = message\n",
    "        super().__init__(f'{self.error_code}-{self.message}')\n",
    "\n",
    "class CreateItemFullError(CreateItemError):\n",
    "    \"\"\"当前Item已满\"\"\"\n",
    "\n",
    "    \n",
    "raise CreateItemFullError(\"Item_Full\", \"Item_Full\")\n",
    "raise CreateItemError(\"name_too_long\", \"toooooo long\")"
   ]
  },
  {
   "cell_type": "markdown",
   "id": "cc1e68e7",
   "metadata": {},
   "source": [
    "## 5.5 异常何必是异常\n",
    "\n",
    "空对象模式（null object pattern），简单来说就是你写的某个API，在本该返回`None`或者抛出异常时，返回一个结构与正常结果一致的，一个特定的“空类型对象”来代替，以免去其他人调用时，需要`try`捕获异常。"
   ]
  },
  {
   "cell_type": "code",
   "execution_count": 46,
   "id": "f9fc4322",
   "metadata": {},
   "outputs": [],
   "source": [
    "QUALIFIED_POINTS = 80\n",
    "\n",
    "class UserPoint:\n",
    "    \"\"\"用户得分纪录\"\"\"\n",
    "    \n",
    "    def __init__(self, username, points):\n",
    "        self.username = username\n",
    "        self.points = points\n",
    "    \n",
    "    def is_qualified(self):\n",
    "        return self.points >= QUALIFIED_POINTS\n",
    "    \n",
    "\n",
    "class NullUserPoint(UserPoint):\n",
    "    \"\"\"创建用户失败的时候\"\"\"\n",
    "    \n",
    "    def __init__(self):\n",
    "        self.username = \"\"\n",
    "        self.points = 0\n",
    "        super.__init__(self.username, self.points)\n",
    "        \n",
    "    def is_qualified(self):\n",
    "        return False\n",
    "    \n"
   ]
  },
  {
   "cell_type": "markdown",
   "id": "dba01c6c",
   "metadata": {},
   "source": [
    "## 5.6 数据校验\n",
    "\n",
    "某个函数，在执行前，对输入可能有苛刻的校验条件，这就导致了大量的判定语句。我们可以使用`pydantic`库，此库非官方自带库，需要pip安装。\n",
    "\n",
    "不要使用`assert`语句作校验，这是供开发者调试程序的关键字，使用`-O`标志运行代码，那么这些校验都将被跳过。\n",
    "\n",
    "优点：\n",
    "- 快\n",
    "- 验证复杂结构：递归\n",
    "- 可扩展自定义类型\n",
    "- @dataclass 装饰器"
   ]
  },
  {
   "cell_type": "code",
   "execution_count": 10,
   "id": "ce3ac595",
   "metadata": {},
   "outputs": [
    {
     "name": "stdout",
     "output_type": "stream",
     "text": [
      "user.id:  123\n",
      "[\n",
      "  {\n",
      "    \"loc\": [\n",
      "      \"friends\",\n",
      "      3\n",
      "    ],\n",
      "    \"msg\": \"value is not a valid integer\",\n",
      "    \"type\": \"type_error.integer\"\n",
      "  }\n",
      "]\n"
     ]
    }
   ],
   "source": [
    "from datetime import datetime\n",
    "from typing import List, Optional\n",
    "from pydantic import BaseModel, ValidationError\n",
    "\n",
    "\n",
    "class User(BaseModel):\n",
    "    # 指定id为int，如果不是强制到ints；否则将引发异常\n",
    "    id: int\n",
    "    # name 不提供则为None，根据类型判断为 str\n",
    "    name = 'John Doe'\n",
    "    # signup_ts 可选的日期时间字段\n",
    "    signup_ts: Optional[datetime] = None\n",
    "    # 全部为int类型的list\n",
    "    friends: List[int] = []\n",
    "\n",
    "\n",
    "external_data = {\n",
    "    'id': '123',\n",
    "    'signup_ts': '2019-06-01 12:22',\n",
    "    'friends': [1, 2, '3'],\n",
    "}\n",
    "user = User(**external_data)\n",
    "print(\"user.id: \",user.id)\n",
    "\n",
    "\n",
    "external_data['friends'].append(\"str\")\n",
    "try:\n",
    "    user = User(**external_data)\n",
    "except ValidationError as e:\n",
    "    print(e.json())\n"
   ]
  },
  {
   "cell_type": "markdown",
   "id": "e19a308a",
   "metadata": {},
   "source": []
  }
 ],
 "metadata": {
  "kernelspec": {
   "display_name": "Python 3 (ipykernel)",
   "language": "python",
   "name": "python3"
  },
  "language_info": {
   "codemirror_mode": {
    "name": "ipython",
    "version": 3
   },
   "file_extension": ".py",
   "mimetype": "text/x-python",
   "name": "python",
   "nbconvert_exporter": "python",
   "pygments_lexer": "ipython3",
   "version": "3.9.12"
  }
 },
 "nbformat": 4,
 "nbformat_minor": 5
}
