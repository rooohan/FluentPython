{
 "cells": [
  {
   "cell_type": "markdown",
   "id": "7dca5ca4",
   "metadata": {},
   "source": [
    "# 第6章 迭代\n",
    "\n",
    "Python从可迭代的对象(`__next__`)中获取迭代器（`__iter__`）。\n",
    "\n",
    "## 6.1 自定义迭代器\n",
    "\n"
   ]
  },
  {
   "cell_type": "code",
   "execution_count": 1,
   "id": "9cda6462",
   "metadata": {},
   "outputs": [],
   "source": [
    "import re\n",
    "import reprlib\n",
    "\n",
    "RE_WORD = re.compile('\\w+')\n",
    "\n",
    "\n",
    "class Sentence:\n",
    "     def __init__(self, text):\n",
    "         self.text = text\n",
    "         self.words = RE_WORD.findall(text)\n",
    "            \n",
    "     def __repr__(self):\n",
    "     \treturn 'Sentence(%s)' % reprlib.repr(self.text)\n",
    "    \n",
    "     def __iter__(self):\n",
    "         # 迭代self.words\n",
    "         for word in self.words:\n",
    "            # 产出当前的 word\n",
    "         \tyield word \n",
    "            \n",
    "         # 这个return可以不写，不论写不写都不会报StopIteration异常   \n",
    "         return \n",
    "        \n",
    "# 完成！ 不需要定义可迭代的对象"
   ]
  },
  {
   "cell_type": "markdown",
   "id": "65184dcf",
   "metadata": {},
   "source": [
    "## 6.2 itertools\n",
    "\n",
    "Python自带的,和迭代器相关的`itertools`标准库模块：\n",
    "\n",
    "### 6.2.1 itertools.producr()\n",
    "\n",
    "对于多层嵌套函数，可以用`producr` 扁平化：\n",
    "\n",
    "\n"
   ]
  },
  {
   "cell_type": "code",
   "execution_count": 2,
   "id": "1a847d2b",
   "metadata": {},
   "outputs": [
    {
     "name": "stdout",
     "output_type": "stream",
     "text": [
      "1*1=1\n",
      "1*2=2\n",
      "2*1=2\n",
      "2*2=4\n",
      "--------\n",
      "1*1=1\n",
      "1*2=2\n",
      "2*1=2\n",
      "2*2=4\n"
     ]
    }
   ],
   "source": [
    "from itertools import product\n",
    "\n",
    "\n",
    "for i in range(1,3):\n",
    "    for j in range(1,3):\n",
    "        print(f\"{i}*{j}={i*j}\")\n",
    "print(\"--------\")\n",
    "        \n",
    "for i,j in product(range(1,3), range(1,3)):\n",
    "    print(f\"{i}*{j}={i*j}\")"
   ]
  },
  {
   "cell_type": "markdown",
   "id": "dc6eb767",
   "metadata": {},
   "source": [
    "### 6.2.2 迭代边界条件判定\n",
    "\n",
    "有时候，我们执行迭代时候，会对迭代的当前数据进行判定，此时我们可以使用：`itertools.takewhile(条件函数, 生成器)` 优化："
   ]
  },
  {
   "cell_type": "code",
   "execution_count": 14,
   "id": "00e5d0dd",
   "metadata": {},
   "outputs": [
    {
     "name": "stdout",
     "output_type": "stream",
     "text": [
      "1\n"
     ]
    }
   ],
   "source": [
    "from itertools import takewhile\n",
    "\n",
    "def iter_foo():\n",
    "    for i,j in product(range(1,3), range(1,3)):\n",
    "        yield i*j\n",
    "\n",
    "def is_not_one(index):\n",
    "    if index > 1:\n",
    "        return False\n",
    "    else:\n",
    "        return True\n",
    "\n",
    "for item in takewhile(is_not_one, iter_foo()):\n",
    "    print(item)"
   ]
  },
  {
   "cell_type": "markdown",
   "id": "686694dc",
   "metadata": {},
   "source": [
    "### 6.2.3 其他函数\n",
    "\n",
    "`itertools.count()`:如果不写参数，会从0开始生成整数，提供可选的`start`和`step` 参数，`list(itertools.count())` 电脑直接爆炸。\n",
    "\n",
    "`itertools.cycle()`: 会从指定序列中反复不断地生成元素。\n"
   ]
  },
  {
   "cell_type": "code",
   "execution_count": 29,
   "id": "7342ae03",
   "metadata": {},
   "outputs": [
    {
     "name": "stdout",
     "output_type": "stream",
     "text": []
    }
   ],
   "source": [
    "import itertools\n",
    "import sys\n",
    "import time\n",
    "\n",
    "write, flush = sys.stdout.write, sys.stdout.flush\n",
    "\n",
    "def loop_foo():\n",
    "    for i in  itertools.cycle('|/-\\\\'):\n",
    "        yield i\n",
    "\n",
    "def exit_foo():\n",
    "    index = 0\n",
    "    def min_exit_foo(value):\n",
    "        nonlocal index\n",
    "        index += 1\n",
    "        if index > 20 : \n",
    "            return False \n",
    "        else:\n",
    "            return True\n",
    "    return min_exit_foo\n",
    "    \n",
    "is_exit = exit_foo()    \n",
    "for char in takewhile(is_exit,itertools.cycle('|/-\\\\')):\n",
    "    write(char)\n",
    "    flush()\n",
    "    # 实现动画地原因，使用退格符把光标移回来\n",
    "    write('\\x08' * len(char)) \n",
    "    time.sleep(.1)"
   ]
  },
  {
   "cell_type": "markdown",
   "id": "cb862580",
   "metadata": {},
   "source": [
    "## 6.3 break\n",
    "\n",
    "多层嵌套的循环，一个break，并不能跳出所有。所以可以把嵌套循环单独拿出来，当作一个函数，然后使用`return`而不是`break`."
   ]
  },
  {
   "cell_type": "code",
   "execution_count": 34,
   "id": "0004051c",
   "metadata": {},
   "outputs": [
    {
     "data": {
      "text/plain": [
       "(2, 12)"
      ]
     },
     "execution_count": 34,
     "metadata": {},
     "output_type": "execute_result"
    }
   ],
   "source": [
    "def get_24():\n",
    "    for i in range(1,20):\n",
    "        for j in range(1,20):\n",
    "            if i*j == 24:\n",
    "                return i,j \n",
    "get_24()"
   ]
  },
  {
   "cell_type": "markdown",
   "id": "020c4aad",
   "metadata": {},
   "source": [
    "# 第7章 函数\n",
    "\n",
    "## 7.1 函数输入参数\n",
    "\n",
    "可变参数和不定参数，让Python自由度极大的上升。函数接收的参数最好不要超过3个。通过加入`*`，让后面的参数全部变为关键参数，可让代码更加健壮。\n",
    "> Python3.8 加入了新的特性支持“仅限位置参数”，但是没啥实用性。"
   ]
  },
  {
   "cell_type": "code",
   "execution_count": 50,
   "id": "8d2cc357",
   "metadata": {},
   "outputs": [
    {
     "ename": "TypeError",
     "evalue": "foo() missing 1 required keyword-only argument: 'fit'",
     "output_type": "error",
     "traceback": [
      "\u001b[0;31m---------------------------------------------------------------------------\u001b[0m",
      "\u001b[0;31mTypeError\u001b[0m                                 Traceback (most recent call last)",
      "Input \u001b[0;32mIn [50]\u001b[0m, in \u001b[0;36m<cell line: 4>\u001b[0;34m()\u001b[0m\n\u001b[1;32m      1\u001b[0m \u001b[38;5;28;01mdef\u001b[39;00m \u001b[38;5;21mfoo\u001b[39m(name, gender, \u001b[38;5;241m*\u001b[39m, fit):\n\u001b[1;32m      2\u001b[0m     \u001b[38;5;28mprint\u001b[39m(name, gender, fit)\n\u001b[0;32m----> 4\u001b[0m \u001b[43mfoo\u001b[49m\u001b[43m(\u001b[49m\u001b[38;5;124;43m'\u001b[39;49m\u001b[38;5;124;43mrohan\u001b[39;49m\u001b[38;5;124;43m'\u001b[39;49m\u001b[43m,\u001b[49m\u001b[43m \u001b[49m\u001b[38;5;124;43m'\u001b[39;49m\u001b[38;5;124;43mmale\u001b[39;49m\u001b[38;5;124;43m'\u001b[39;49m\u001b[43m \u001b[49m\u001b[43m)\u001b[49m\n",
      "\u001b[0;31mTypeError\u001b[0m: foo() missing 1 required keyword-only argument: 'fit'"
     ]
    }
   ],
   "source": [
    "def foo(name, gender, *, fit):\n",
    "    print(name, gender, fit)\n",
    "\n",
    "foo('rohan', 'male' )"
   ]
  },
  {
   "cell_type": "markdown",
   "id": "e160457b",
   "metadata": {},
   "source": [
    "## 7.2 函数返回值\n",
    "\n",
    "### 7.2.1尽量返回一种类型\n",
    "\n",
    "Python轻易就可以做到静态语言做不到的事：函数支持返回不同类型的结果。但是不要这么做。这种多功能函数，看起来“多才多艺”。其实会增加复杂度，增加维护成本。\n",
    "\n",
    "更好的做法是，一个功能拆分一个函数。\n",
    "\n",
    "### 7.2.2 警惕None\n",
    "函数返回None的场景：\n",
    "- 操作类函数或无返回值函数的默认值\n",
    "- 尝试“搜索”、“查询”函数，意料之中的结果\n",
    "\n",
    "除此以外的场景，你都应该用抛出异常更加合理。"
   ]
  },
  {
   "cell_type": "markdown",
   "id": "647ef971",
   "metadata": {},
   "source": [
    "## 7.3 内置模块functools\n",
    "\n",
    "`partial`偏函数：可以让有同样参数的函数，复用时更加扁平。更加突出区别："
   ]
  },
  {
   "cell_type": "code",
   "execution_count": 49,
   "id": "be1af2a6",
   "metadata": {},
   "outputs": [
    {
     "name": "stdout",
     "output_type": "stream",
     "text": [
      "male China Rohan rohan@gmail.com 18\n"
     ]
    }
   ],
   "source": [
    "from functools import partial\n",
    "\n",
    "\n",
    "def foo(gender, address, name, email, age):\n",
    "    print(gender, address, name, email, age)\n",
    "    \n",
    "foo_male = partial(foo, gender = 'male', address = 'China')\n",
    "foo_male(name='Rohan', email='rohan@gmail.com', age='18')"
   ]
  },
  {
   "cell_type": "markdown",
   "id": "2e7ec507",
   "metadata": {},
   "source": [
    "`lru_catche(max_size=None)`给函数增加缓存功能：如果某个函数的返回值相对于输入值是固定的，那么可以使用缓存功能，避免重复计算,`max_size`表示最多保存多少缓存结果。默认为128。"
   ]
  },
  {
   "cell_type": "code",
   "execution_count": 8,
   "id": "9f890ee7",
   "metadata": {},
   "outputs": [
    {
     "name": "stdout",
     "output_type": "stream",
     "text": [
      "time: 0.06258358400009456; none_catch_time: 0.12867616699986684\n"
     ]
    }
   ],
   "source": [
    "import timeit\n",
    "from functools import lru_cache\n",
    "\n",
    "@lru_cache()\n",
    "def fibonacci(n):\n",
    "    if n < 2 :\n",
    "        return n\n",
    "    return fibonacci(n-2) + fibonacci(n-1)\n",
    "\n",
    "def none_catch_fibonacci(n):\n",
    "    if n < 2 :\n",
    "        return n\n",
    "    return fibonacci(n-2) + fibonacci(n-1)\n",
    "\n",
    "\n",
    "time = timeit.timeit(setup='from __main__ import fibonacci',stmt = 'fibonacci(20)')\n",
    "none_catch_time = timeit.timeit(setup='from __main__ import none_catch_fibonacci',stmt = 'none_catch_fibonacci(20)')\n",
    "print(f'time: {time}; none_catch_time: {none_catch_time}')"
   ]
  },
  {
   "cell_type": "markdown",
   "id": "f86f10d3",
   "metadata": {},
   "source": [
    "## 7.4 函数抽象\n",
    "\n",
    "一个单独的功能，写成一个单一的函数，这没问题。在讲多个函数组合成一个大的层的时候。也要注意业务逻辑的抽象。\n",
    "\n",
    "保证一个函数内抽象级别一致，函数的职责更简单，代码更易读。\n",
    "\n",
    "## 7.5 递归的局限性\n",
    "\n",
    "在其他语言中，为了避免递归调用栈过深，使用尾调用优化，讲递归优化成循环，以避免嵌套层级过深。一定要低于`sys.getrecursionlimit()`的深度。\n",
    "\n",
    "如果可以，尽量将递归改写成循环。"
   ]
  },
  {
   "cell_type": "code",
   "execution_count": 9,
   "id": "0e0e3780",
   "metadata": {},
   "outputs": [
    {
     "data": {
      "text/plain": [
       "3000"
      ]
     },
     "execution_count": 9,
     "metadata": {},
     "output_type": "execute_result"
    }
   ],
   "source": [
    "import sys\n",
    "\n",
    "sys.getrecursionlimit()"
   ]
  },
  {
   "cell_type": "code",
   "execution_count": null,
   "id": "ef5deaea",
   "metadata": {},
   "outputs": [],
   "source": []
  }
 ],
 "metadata": {
  "kernelspec": {
   "display_name": "Python 3 (ipykernel)",
   "language": "python",
   "name": "python3"
  },
  "language_info": {
   "codemirror_mode": {
    "name": "ipython",
    "version": 3
   },
   "file_extension": ".py",
   "mimetype": "text/x-python",
   "name": "python",
   "nbconvert_exporter": "python",
   "pygments_lexer": "ipython3",
   "version": "3.9.12"
  }
 },
 "nbformat": 4,
 "nbformat_minor": 5
}
