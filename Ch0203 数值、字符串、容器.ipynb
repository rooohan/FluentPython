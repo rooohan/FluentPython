{
 "cells": [
  {
   "cell_type": "markdown",
   "id": "8acf7e26",
   "metadata": {},
   "source": [
    "> 运行环境为Python3.8\n",
    "\n",
    "# 第2章 数值与字符串\n",
    "\n",
    "## 2.1 数值\n",
    "\n",
    "### 2.1.1 浮点精度问题\n",
    "\n",
    "浮点精度问题，如果在Python中直接输入`0.1+0.2`会看到“奇景”"
   ]
  },
  {
   "cell_type": "code",
   "execution_count": 3,
   "id": "b8d12e37",
   "metadata": {},
   "outputs": [
    {
     "data": {
      "text/plain": [
       "0.30000000000000004"
      ]
     },
     "execution_count": 3,
     "metadata": {},
     "output_type": "execute_result"
    }
   ],
   "source": [
    "0.1 + 0.2"
   ]
  },
  {
   "cell_type": "markdown",
   "id": "686f2b2d",
   "metadata": {},
   "source": [
    "正确的做法是使用Python提供的内置模块：decimal,并使用字符串。"
   ]
  },
  {
   "cell_type": "code",
   "execution_count": 9,
   "id": "48faec3a",
   "metadata": {},
   "outputs": [
    {
     "name": "stdout",
     "output_type": "stream",
     "text": [
      "0.3\n",
      "0.3000000000000000166533453694\n"
     ]
    }
   ],
   "source": [
    "from decimal import Decimal\n",
    "\n",
    "# 注意是字符串\n",
    "print(Decimal('0.1')+Decimal('0.2'))\n",
    "# 此处仍然有问题\n",
    "print(Decimal(0.1)+Decimal(0.2))"
   ]
  },
  {
   "cell_type": "markdown",
   "id": "af65f835",
   "metadata": {},
   "source": [
    "### 2.1.2 编程建议\n",
    "\n",
    "1. 对于数值比较，Python自带了两个边界数值，简化代码逻辑：`float(\"-inf\") < 任意数 < float(\"inf\")`\n",
    "\n",
    "2. 在写代码时，一些比较复杂的数字，比如950400 ，不如写成 11\\*24\\*3600 ；不需要担心性能，Python在运行前会提前计算。我们可以使用内置的dis模块，查看汇编代码，验证此方法。"
   ]
  },
  {
   "cell_type": "code",
   "execution_count": 39,
   "id": "f163781b",
   "metadata": {},
   "outputs": [
    {
     "name": "stdout",
     "output_type": "stream",
     "text": [
      "  4           0 LOAD_FAST                0 (x)\n",
      "              2 LOAD_FAST                1 (y)\n",
      "              4 BINARY_ADD\n",
      "              6 LOAD_CONST               1 (264)\n",
      "              8 BINARY_ADD\n",
      "             10 RETURN_VALUE\n"
     ]
    }
   ],
   "source": [
    "import dis\n",
    "\n",
    "def add(x, y):\n",
    "    return x + y + 11*24\n",
    "\n",
    "dis.dis(add)"
   ]
  },
  {
   "cell_type": "markdown",
   "id": "59815f81",
   "metadata": {},
   "source": [
    "## 2.2 字符串\n",
    "\n",
    "判断字符串是否只包含数字"
   ]
  },
  {
   "cell_type": "code",
   "execution_count": 10,
   "id": "af4cc668",
   "metadata": {},
   "outputs": [
    {
     "data": {
      "text/plain": [
       "True"
      ]
     },
     "execution_count": 10,
     "metadata": {},
     "output_type": "execute_result"
    }
   ],
   "source": [
    "'1234'.isdigit()"
   ]
  },
  {
   "cell_type": "markdown",
   "id": "93c2b574",
   "metadata": {},
   "source": [
    "str.partition(seq)功能按照‘seq’分割字符串，并返回三个成员的元祖，对于对分割结果有逻辑判定时，此方法更好用"
   ]
  },
  {
   "cell_type": "code",
   "execution_count": 38,
   "id": "5998c4bd",
   "metadata": {},
   "outputs": [
    {
     "data": {
      "text/plain": [
       "('我的名字', '：', 'rohan')"
      ]
     },
     "execution_count": 38,
     "metadata": {},
     "output_type": "execute_result"
    }
   ],
   "source": [
    "'我的名字：rohan'.partition('：')"
   ]
  },
  {
   "cell_type": "code",
   "execution_count": 12,
   "id": "6bef94f7",
   "metadata": {},
   "outputs": [
    {
     "data": {
      "text/plain": [
       "('我的名字：rohan', '', '')"
      ]
     },
     "execution_count": 12,
     "metadata": {},
     "output_type": "execute_result"
    }
   ],
   "source": [
    "# 分割符换为英文冒号，导致分割结果 两处为空。\n",
    "'我的名字：rohan'.partition(':')"
   ]
  },
  {
   "cell_type": "markdown",
   "id": "8f274054",
   "metadata": {},
   "source": [
    "维护替换字符表，批量替换字符串,避免多次使用replace()。"
   ]
  },
  {
   "cell_type": "code",
   "execution_count": 35,
   "id": "9badfe5d",
   "metadata": {},
   "outputs": [
    {
     "data": {
      "text/plain": [
       "'Thno no my otyle!拉拉拉'"
      ]
     },
     "execution_count": 35,
     "metadata": {},
     "output_type": "execute_result"
    }
   ],
   "source": [
    "ex_str = 'This is my style!呀呀呀'\n",
    "table = ex_str.maketrans('is呀','no拉')\n",
    "ex_str.translate(table)"
   ]
  },
  {
   "cell_type": "markdown",
   "id": "9ac7f311",
   "metadata": {},
   "source": [
    "### 2.2.1 Jinja2\n",
    "\n",
    "之前笔者对于jinja2的使理解用仅限于前后端不分离的项目，但是对于非结构化的字符串，我们应该避免直接拼接。就像避免直接拼接SQL，而应该使用SQLAlchemy"
   ]
  },
  {
   "cell_type": "code",
   "execution_count": 41,
   "id": "3a1de9ee",
   "metadata": {},
   "outputs": [
    {
     "name": "stdout",
     "output_type": "stream",
     "text": [
      "Welcome, Rohan.\n",
      "\n",
      "* 杀死比尔, Score: 93\n",
      "* 八恶人, Score: 95\n",
      "* 奥特曼, Score: 80\n"
     ]
    }
   ],
   "source": [
    "from jinja2 import Template\n",
    "\n",
    "_MOVIE_TMPL = \"\"\"\\\n",
    "Welcome, {{username}}.\n",
    "{%for name, score in movies %}\n",
    "* {{name}}, Score: {{score}}\n",
    "{%- endfor %}\n",
    "\"\"\"\n",
    "\n",
    "movies = [('杀死比尔','93'),('八恶人','95'),('奥特曼', '80')]\n",
    "\n",
    "tmpl = Template(_MOVIE_TMPL)\n",
    "str_tmpl = tmpl.render(username = 'Rohan', movies = movies)\n",
    "print(str_tmpl)"
   ]
  },
  {
   "cell_type": "markdown",
   "id": "4011ee40",
   "metadata": {},
   "source": [
    "如果要去掉字符串中的缩紧，可以使用`textwrap`库的`dedent`"
   ]
  },
  {
   "cell_type": "markdown",
   "id": "6395abca",
   "metadata": {},
   "source": [
    "### 2.2.2 建议\n",
    "\n",
    "1. 字符串`r`开头的方法，都是逆序操作;\n",
    "2. 字符串拼接自Python2.2 以后可以直接使用`+=`操作\n",
    "3. 性能测试，可以直接使用`timeit`模块\n"
   ]
  },
  {
   "cell_type": "code",
   "execution_count": 48,
   "id": "2fb84529",
   "metadata": {},
   "outputs": [
    {
     "data": {
      "text/plain": [
       "0.12847758299994894"
      ]
     },
     "execution_count": 48,
     "metadata": {},
     "output_type": "execute_result"
    }
   ],
   "source": [
    "import timeit\n",
    "\n",
    "def foo():\n",
    "    add(1,2)\n",
    "\n",
    "# 默认执行100万次\n",
    "timeit.timeit(setup='from __main__ import foo',stmt = 'foo()')"
   ]
  },
  {
   "cell_type": "markdown",
   "id": "6c7062e1",
   "metadata": {},
   "source": [
    "# 第3章 容器类型\n",
    "\n",
    "## 3.1 列表\n",
    "\n",
    "函数内部传递的list默认是一个变量指向了同一个变量，“+=”操作会使list这种可变类型的变量，就地修改。而str则会生成新的。"
   ]
  },
  {
   "cell_type": "code",
   "execution_count": 6,
   "id": "26d9ebe1",
   "metadata": {},
   "outputs": [
    {
     "name": "stdout",
     "output_type": "stream",
     "text": [
      "['hello', 11]\n"
     ]
    }
   ],
   "source": [
    "def add_list(input_list:list)->list:\n",
    "    input_list += [11]\n",
    "    return input_list\n",
    "\n",
    "my_list = ['hello']\n",
    "out_list = add_list(my_list)"
   ]
  },
  {
   "cell_type": "markdown",
   "id": "c25bd871",
   "metadata": {},
   "source": [
    "## 3.2 具名元组\n",
    "\n",
    "此处特别介绍一下具名元组的一些用法，可见使用这种下标会*增加可读性*。"
   ]
  },
  {
   "cell_type": "code",
   "execution_count": 12,
   "id": "e7fe995b",
   "metadata": {},
   "outputs": [
    {
     "name": "stdout",
     "output_type": "stream",
     "text": [
      "Zeo的血量是200,魔法是150;Hero(name='Zeo', health=200, mana=150, attack=33)\n"
     ]
    }
   ],
   "source": [
    "from collections import namedtuple\n",
    "\n",
    "Hero = namedtuple('Hero','name, health, mana, attack')\n",
    "\n",
    "zeo = Hero(name='Zeo', health=200, mana=150, attack=33)\n",
    "print(f\"Zeo的血量是{zeo.health},魔法是{zeo[2]}\")"
   ]
  },
  {
   "cell_type": "markdown",
   "id": "120fe977",
   "metadata": {},
   "source": [
    "对于一些，需求变动比较大的函数，我们可以用时namedtuple作为返回值。可以可以保证后期维护的时候，最小变动原则。而且具有类似静态语言的特性。"
   ]
  },
  {
   "cell_type": "code",
   "execution_count": 6,
   "id": "1aab9da9",
   "metadata": {},
   "outputs": [
    {
     "data": {
      "text/plain": [
       "'青岛'"
      ]
     },
     "execution_count": 6,
     "metadata": {},
     "output_type": "execute_result"
    }
   ],
   "source": [
    "from typing import NamedTuple\n",
    "\n",
    "class Address(NamedTuple):\n",
    "    \"\"\"地址信息结果\"\"\"\n",
    "    country: str\n",
    "    province: str\n",
    "    city: str\n",
    "        \n",
    "def get_address(a, b, c):\n",
    "    return Address(country=a, province=b, city= c)\n",
    "\n",
    "addr = get_address(\"中国\", \"山东\", \"青岛\")\n",
    "addr.city"
   ]
  },
  {
   "cell_type": "markdown",
   "id": "b5def8da",
   "metadata": {},
   "source": [
    "## 3.3 字典\n",
    "\n",
    "我们经常会遇到访问字典，但不确定字典中的Key，是否是存在，不存在则会抛出KeyError异常，这种情况称为边界情况(edge case)。\n",
    "\n",
    "下面我们介绍一下Python中，如何处理这种情况：\n",
    "\n",
    "一般情况："
   ]
  },
  {
   "cell_type": "code",
   "execution_count": 16,
   "id": "c0049f8d",
   "metadata": {},
   "outputs": [],
   "source": [
    "examples_dict ={\"one\":1}\n",
    "\n",
    "if 'two' in examples_dict:\n",
    "    two = examples_dict['two']\n",
    "else:\n",
    "    two = 0\n",
    "    "
   ]
  },
  {
   "cell_type": "markdown",
   "id": "8d801ca7",
   "metadata": {},
   "source": [
    "Python 中会更推崇下面的写法，更简洁，执行效率也更高。"
   ]
  },
  {
   "cell_type": "code",
   "execution_count": 15,
   "id": "28d9d57d",
   "metadata": {},
   "outputs": [],
   "source": [
    "try:\n",
    "    two = examples_dict['two']\n",
    "except KeyError:\n",
    "    two = 0"
   ]
  },
  {
   "cell_type": "markdown",
   "id": "663755e7",
   "metadata": {},
   "source": [
    "但是Python中，对于字典有专门的处理方法：\n",
    "- dict.get(key, default) \n",
    "- dict.setdefault(key, default)\n",
    "\n",
    "对于`setdefault`，如果key，已经存在，那么后面的default则无效，Python只返回key的值"
   ]
  },
  {
   "cell_type": "code",
   "execution_count": 19,
   "id": "db9619b5",
   "metadata": {},
   "outputs": [
    {
     "data": {
      "text/plain": [
       "False"
      ]
     },
     "execution_count": 19,
     "metadata": {},
     "output_type": "execute_result"
    }
   ],
   "source": [
    "# 此时字典中仍然没有这个Key\n",
    "two = examples_dict.get('two', 2)\n",
    "'two' in examples_dict"
   ]
  },
  {
   "cell_type": "code",
   "execution_count": 23,
   "id": "d33f6e9d",
   "metadata": {},
   "outputs": [
    {
     "data": {
      "text/plain": [
       "True"
      ]
     },
     "execution_count": 23,
     "metadata": {},
     "output_type": "execute_result"
    }
   ],
   "source": [
    "two = examples_dict.setdefault('two', 2)\n",
    "'two' in examples_dict"
   ]
  },
  {
   "cell_type": "markdown",
   "id": "31cab2e5",
   "metadata": {},
   "source": [
    "### 3.3.1 字典的有序或无序\n",
    "\n",
    "自Python3.7以后，字典的有序性正式作为语言规范的一部分。\n",
    "> Python3.6在优化字典类型底层实现的同时，带来了一个副作用：“字典变得有序了”。\n",
    "\n",
    "对于旧版本的Python，你可以使用`collections.OrderedDict`,它和新特性来说，还是有细微的不同：用“==”判断时，dict不会考虑顺序，但是OrderedDict 会判定顺序是否一致。\n"
   ]
  },
  {
   "cell_type": "code",
   "execution_count": 34,
   "id": "fb8a42b3",
   "metadata": {},
   "outputs": [
    {
     "name": "stdout",
     "output_type": "stream",
     "text": [
      "True\n",
      "False\n"
     ]
    }
   ],
   "source": [
    "from collections import OrderedDict\n",
    "\n",
    "d1 = {\"1\":1,\"2\":2}\n",
    "d2 = {\"2\":2, \"1\":1}\n",
    "print(d1 ==d2)\n",
    "\n",
    "od1 = OrderedDict()\n",
    "od1[\"1\"]=1\n",
    "od1[\"2\"]=2\n",
    "od2 = OrderedDict()\n",
    "od2['2']=2\n",
    "od2['1']=1\n",
    "print(od1==od2)"
   ]
  },
  {
   "cell_type": "code",
   "execution_count": null,
   "id": "c888de64",
   "metadata": {},
   "outputs": [],
   "source": []
  }
 ],
 "metadata": {
  "kernelspec": {
   "display_name": "Python 3 (ipykernel)",
   "language": "python",
   "name": "python3"
  },
  "language_info": {
   "codemirror_mode": {
    "name": "ipython",
    "version": 3
   },
   "file_extension": ".py",
   "mimetype": "text/x-python",
   "name": "python",
   "nbconvert_exporter": "python",
   "pygments_lexer": "ipython3",
   "version": "3.10.4"
  }
 },
 "nbformat": 4,
 "nbformat_minor": 5
}
