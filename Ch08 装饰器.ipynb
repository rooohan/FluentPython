{
 "cells": [
  {
   "cell_type": "markdown",
   "id": "6e5d6331",
   "metadata": {},
   "source": [
    "# 第8章 装饰器\n",
    "\n",
    "## 8.1 闭包\n",
    "装饰器是一种语法糖，是闭包的语法糖。让我来看一下闭包：\n"
   ]
  },
  {
   "cell_type": "code",
   "execution_count": 3,
   "id": "aba42206",
   "metadata": {},
   "outputs": [
    {
     "data": {
      "text/plain": [
       "3.5"
      ]
     },
     "execution_count": 3,
     "metadata": {},
     "output_type": "execute_result"
    }
   ],
   "source": [
    "def get_avg():\n",
    "    list_item = []\n",
    "    \n",
    "    def to_avg(item):\n",
    "        nonlocal list_item\n",
    "        list_item.append(item)\n",
    "        avg = sum(list_item)/len(list_item)\n",
    "        return avg\n",
    "    return to_avg\n",
    "        \n",
    "cal_avg = get_avg()\n",
    "cal_avg(5)\n",
    "cal_avg(2)"
   ]
  },
  {
   "cell_type": "markdown",
   "id": "83ffc48b",
   "metadata": {},
   "source": [
    "更接近装饰器的闭包写法："
   ]
  },
  {
   "cell_type": "code",
   "execution_count": 12,
   "id": "8a7f8cb8",
   "metadata": {},
   "outputs": [
    {
     "name": "stdout",
     "output_type": "stream",
     "text": [
      "[7]\n",
      "[7, 15]\n"
     ]
    },
    {
     "data": {
      "text/plain": [
       "15"
      ]
     },
     "execution_count": 12,
     "metadata": {},
     "output_type": "execute_result"
    }
   ],
   "source": [
    "import functools\n",
    "\n",
    "def my_deco(foo):\n",
    "    list_item = []\n",
    "    \n",
    "    @functools.wraps(foo) # 避免覆盖掉原函数的元数据\n",
    "    def add_result(*arg, **kwargs):\n",
    "        nonlocal list_item\n",
    "        item = foo(*arg, **kwargs)\n",
    "        list_item.append(item)\n",
    "        print(list_item)\n",
    "        return item\n",
    "    return add_result\n",
    "\n",
    "@my_deco\n",
    "def sum_item(x,y):\n",
    "    return x+y\n",
    "\n",
    "sum_item(3,4)\n",
    "sum_item(7,8)"
   ]
  },
  {
   "cell_type": "markdown",
   "id": "d3147b56",
   "metadata": {},
   "source": [
    "说装饰器是一种语法糖，是因为以上代码其实是运行了以下代码："
   ]
  },
  {
   "cell_type": "code",
   "execution_count": 26,
   "id": "4046225e",
   "metadata": {},
   "outputs": [
    {
     "name": "stdout",
     "output_type": "stream",
     "text": [
      "[7, 15, 11]\n",
      "[11]\n"
     ]
    },
    {
     "data": {
      "text/plain": [
       "11"
      ]
     },
     "execution_count": 26,
     "metadata": {},
     "output_type": "execute_result"
    }
   ],
   "source": [
    "index_foo = my_deco(sum_item)\n",
    "index_foo(5,6)"
   ]
  },
  {
   "cell_type": "markdown",
   "id": "2ac3859d",
   "metadata": {},
   "source": [
    "函数实现的装饰器，有一个知名的问题。那就是如果装饰类里的方法，因为类方法默认第一个参数是`self`，会出现问题。此时可以使用第三方库的`@wrapt.decorator`，解决此问题。"
   ]
  },
  {
   "cell_type": "markdown",
   "id": "4564b977",
   "metadata": {},
   "source": [
    "## 8.2 类的__call__实现装饰器\n",
    "\n",
    "优点：更容易实现带参数的装饰器\n",
    "注意：记得原函数的元数据；注意装饰器的括号"
   ]
  },
  {
   "cell_type": "code",
   "execution_count": 25,
   "id": "16bb5dcb",
   "metadata": {},
   "outputs": [
    {
     "name": "stdout",
     "output_type": "stream",
     "text": [
      "cal_add\n",
      "花费时间0.0008414580001954164\n"
     ]
    },
    {
     "data": {
      "text/plain": [
       "22"
      ]
     },
     "execution_count": 25,
     "metadata": {},
     "output_type": "execute_result"
    }
   ],
   "source": [
    "import functools\n",
    "import time\n",
    "\n",
    "class timer:\n",
    "    \"\"\"装饰器：输出装饰函数的执行时间\n",
    "    \n",
    "    param print_args:是否打印函数参数 \n",
    "    \"\"\"\n",
    "    def __init__(self, print_args=True):\n",
    "        self.print_args = print_args\n",
    "        \n",
    "    def __call__(self, func):\n",
    "        @functools.wraps(func) # 避免覆盖掉原函数的元数据\n",
    "        def print_time(*args, **kwargs):\n",
    "            starttime = time.perf_counter()\n",
    "            result = func(*args, **kwargs)\n",
    "            \n",
    "            if self.print_args:\n",
    "                print(f\"{func.__name__}\")\n",
    "            print(f\"花费时间{time.perf_counter() - starttime}\")\n",
    "            return result\n",
    "        return print_time\n",
    "        \n",
    "@timer() # 注意括号一定要写\n",
    "def cal_add(x,y):\n",
    "    return x+y\n",
    "\n",
    "cal_add(10,12)"
   ]
  },
  {
   "cell_type": "markdown",
   "id": "581c04f9",
   "metadata": {},
   "source": [
    "## 8.3 类的实例实现装饰器\n",
    "\n",
    "和上面实现不同的是，被装饰的function，传递给类的self实例，`__call__`方法看起来更加清晰符合直觉。"
   ]
  },
  {
   "cell_type": "code",
   "execution_count": 37,
   "id": "a5ae122f",
   "metadata": {},
   "outputs": [
    {
     "name": "stdout",
     "output_type": "stream",
     "text": [
      "cal_add\n",
      "花费时间0.0003366249993632664\n"
     ]
    },
    {
     "data": {
      "text/plain": [
       "5"
      ]
     },
     "execution_count": 37,
     "metadata": {},
     "output_type": "execute_result"
    }
   ],
   "source": [
    "from functools import update_wrapper\n",
    "\n",
    "class NewTimer:\n",
    "    \"\"\"实例实现装饰器\n",
    "    \"\"\"\n",
    "    \n",
    "    def __init__(self,function,* , print_args=True):\n",
    "        # 避免覆盖掉原函数的元数据\n",
    "        update_wrapper(self, function)\n",
    "        self.function = function\n",
    "        self.print_args = print_args\n",
    "        \n",
    "    def __call__(self, *args, **kwargs):\n",
    "        starttime = time.perf_counter()\n",
    "        result = self.function(*args, **kwargs)\n",
    "\n",
    "        if self.print_args:\n",
    "            print(f\"{self.function.__name__}\")\n",
    "        print(f\"花费时间{time.perf_counter() - starttime}\")\n",
    "        return result\n",
    "    \n",
    "    def add_foo(self):\n",
    "        print(\"增加了新的特性\")\n",
    "        \n",
    "@NewTimer # 注意括号不需要了\n",
    "def cal_add(x,y):\n",
    "    return x+y\n",
    "\n",
    "cal_add(2,3)\n"
   ]
  },
  {
   "cell_type": "markdown",
   "id": "4f8437ff",
   "metadata": {},
   "source": [
    "## 8.5 什么时候用装饰器？\n",
    "\n",
    "1. 运行时校验：对函数执行前介入，校验不通过时终止执行\n",
    "2. 注入额外参数:  `unittest.mock` 的装饰器`@patch`\n",
    "\n",
    "编写装饰器，要注意一定要写的浅，把实现细节写到函数或者类中。可以参考`Click`库。\n",
    "\n"
   ]
  },
  {
   "cell_type": "code",
   "execution_count": null,
   "id": "f43a8bc0",
   "metadata": {},
   "outputs": [],
   "source": []
  }
 ],
 "metadata": {
  "kernelspec": {
   "display_name": "Python 3 (ipykernel)",
   "language": "python",
   "name": "python3"
  },
  "language_info": {
   "codemirror_mode": {
    "name": "ipython",
    "version": 3
   },
   "file_extension": ".py",
   "mimetype": "text/x-python",
   "name": "python",
   "nbconvert_exporter": "python",
   "pygments_lexer": "ipython3",
   "version": "3.9.12"
  }
 },
 "nbformat": 4,
 "nbformat_minor": 5
}
