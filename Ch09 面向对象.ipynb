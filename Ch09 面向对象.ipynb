{
 "cells": [
  {
   "cell_type": "markdown",
   "id": "f0b7dcab",
   "metadata": {},
   "source": [
    "# 第9章 面向对象\n",
    "\n",
    "## 9.1 基础知识\n",
    "\n",
    "### 9.1.1 私有属性\n",
    "\n",
    "在Python圈有句话：`We are all consenting adults here`；对于不想外部访问使用的属性，请在命名前加单下划线.双下划线是一种自私行为。\n",
    "\n",
    "在模块中单下划线的变量，在from mymod import * 时不会被导入，但是from mymod import _mood可以导入"
   ]
  },
  {
   "cell_type": "code",
   "execution_count": 2,
   "id": "b283caec",
   "metadata": {},
   "outputs": [
    {
     "data": {
      "text/plain": [
       "{'_name': '小王', '_Person__gender': '男'}"
      ]
     },
     "execution_count": 2,
     "metadata": {},
     "output_type": "execute_result"
    }
   ],
   "source": [
    "class Person:\n",
    "    def __init__(self, name, gender):\n",
    "        self._name = name\n",
    "        self.__gender = gender\n",
    "\n",
    "wang = Person(\"小王\", \"男\")\n",
    "wang.__dict__"
   ]
  },
  {
   "cell_type": "markdown",
   "id": "4a22c875",
   "metadata": {},
   "source": [
    "### 9.1.2 类方法\n",
    "\n",
    "类实例化后，才能调用方法。能不能直接调用呢？可以，用`@classmethod`装饰方法，这么做一般是用在：定义备选__init__ 方法。\n",
    "\n",
    "⚠️注意，第一个参数要传入类本身，约定写法是`cls`"
   ]
  },
  {
   "cell_type": "code",
   "execution_count": 6,
   "id": "84b9f0f2",
   "metadata": {},
   "outputs": [
    {
     "data": {
      "text/plain": [
       "name:李四; gender:男"
      ]
     },
     "execution_count": 6,
     "metadata": {},
     "output_type": "execute_result"
    }
   ],
   "source": [
    "class Person:\n",
    "    def __init__(self, name, gender):\n",
    "        self._name = name\n",
    "        self._gender = gender\n",
    "    \n",
    "    def __repr__(self):\n",
    "        return f\"name:{self._name}; gender:{self._gender}\"\n",
    "        \n",
    "    @classmethod\n",
    "    def male(cls, name):\n",
    "        return cls(name, \"男\")\n",
    "    \n",
    "Person.male(\"李四\")"
   ]
  },
  {
   "cell_type": "markdown",
   "id": "6eaec6d4",
   "metadata": {},
   "source": [
    "### 9.1.3 静态方法\n",
    "\n",
    "如果这个方法和类的状态属性(`__dict__`)没什么关系，那么就请用 静态方法`staticmethod`吧。"
   ]
  },
  {
   "cell_type": "code",
   "execution_count": 8,
   "id": "fac431f7",
   "metadata": {},
   "outputs": [
    {
     "name": "stdout",
     "output_type": "stream",
     "text": [
      "所有人都会吃饭\n"
     ]
    }
   ],
   "source": [
    "class Person:\n",
    "    def __init__(self, name, gender):\n",
    "        self._name = name\n",
    "        self._gender = gender\n",
    "    \n",
    "    def eat():\n",
    "        print(\"所有人都会吃饭\")\n",
    "    \n",
    "Person.eat()"
   ]
  },
  {
   "cell_type": "markdown",
   "id": "f5a81951",
   "metadata": {},
   "source": [
    "### 9.1.4 属性与方法\n",
    "\n",
    "类的方法是可以转化为方法。`@property`装饰的函数，可以像属性一样访问，同时可以对属性的`get set del` 作自定义设置。"
   ]
  },
  {
   "cell_type": "code",
   "execution_count": 4,
   "id": "b99205f8",
   "metadata": {},
   "outputs": [
    {
     "data": {
      "text/plain": [
       "<Gender.Female: 0>"
      ]
     },
     "execution_count": 4,
     "metadata": {},
     "output_type": "execute_result"
    }
   ],
   "source": [
    "from enum import Enum\n",
    "\n",
    "class Gender(Enum):\n",
    "    Female = 0\n",
    "    Male = 1\n",
    "\n",
    "class Person:\n",
    "    def __init__(self, name, gender):\n",
    "        self._name = name\n",
    "        self._gender = gender\n",
    "    \n",
    "    def __repr__(self):\n",
    "        return f\"I'm a Human!\"\n",
    "    \n",
    "    @property\n",
    "    def trans(self):\n",
    "        self._gender = Gender(abs(1-self._gender.value))\n",
    "        return self._gender\n",
    "    \n",
    "     \n",
    "zhao = Person(\"老赵\", Gender.Male)\n",
    "# 像调用属性一样，调用方法。\n",
    "zhao.trans"
   ]
  },
  {
   "cell_type": "markdown",
   "id": "2c0eb082",
   "metadata": {},
   "source": [
    "   "
   ]
  },
  {
   "cell_type": "markdown",
   "id": "a984b09e",
   "metadata": {},
   "source": [
    "### 9.1.5 鸭子类型\n",
    "\n",
    "在纯粹的鸭子类型编程风格下（只关注行为，而不关注对象的类型），不应该出现任何的`isinstance()`类型判断，你可以用EAFP风格代码操作，也可以用`hasattr(object, \"foo\")` raise 判断。"
   ]
  },
  {
   "cell_type": "code",
   "execution_count": 41,
   "id": "bdb4def1",
   "metadata": {},
   "outputs": [
    {
     "data": {
      "text/plain": [
       "True"
      ]
     },
     "execution_count": 41,
     "metadata": {},
     "output_type": "execute_result"
    }
   ],
   "source": [
    "hasattr(Person, \"__repr__\")"
   ]
  },
  {
   "cell_type": "markdown",
   "id": "2afb8c0e",
   "metadata": {},
   "source": [
    "## 9.2 抽象类\n",
    "\n",
    "自己定义抽象基类，要继承`abc.ABC`；但不要在生产代码中定义抽象基类，滥用抽象基类会造成灾难性后果，表明语言太注重表面形式。99%的情况下只需要正确使用现有的抽象基类，就够用。\n",
    "\n",
    "抽象类的出现，让`isinstance()`没有那么尴尬了。传统模式下`isinstance(obj, BaseObj)`判断对象是否属于特定类型。但它和鸭子类型理念相悖，直到Python2.6推出的抽象类。\n",
    "\n",
    "抽象类作为一种特殊的基类，为我们提供了更为灵活的子类化机制. `__subclasshook__`是被装饰器装饰的类方法，当使用`isinstance`检查对象是否属于某个抽象类时，如果后者定义了这个方法，那么该方法就会被处罚。\n",
    "\n",
    "`C.__mro__`代表C继承的父类有哪些，C3算法实现。\n",
    "\n",
    "像下面这种只关心结构，不关心真实继承关系的，被称为“结构化子类”。"
   ]
  },
  {
   "cell_type": "code",
   "execution_count": 11,
   "id": "4e4505b3",
   "metadata": {},
   "outputs": [
    {
     "data": {
      "text/plain": [
       "True"
      ]
     },
     "execution_count": 11,
     "metadata": {},
     "output_type": "execute_result"
    }
   ],
   "source": [
    "from abc import ABC\n",
    "\n",
    "\n",
    "class Validator(ABC):\n",
    "    \n",
    "    @classmethod\n",
    "    def __subclasshook__(cls, C):\n",
    "        if any(\"trans\" in B.__dict__ for B in C.__mro__):\n",
    "            return True\n",
    "        return NotImplemented\n",
    " \n",
    "isinstance(zhao, Validator)"
   ]
  },
  {
   "cell_type": "markdown",
   "id": "cac59012",
   "metadata": {},
   "source": [
    "除了使用`__subclasshook__`方法，我们还可以使用`register()`方法，手动注册一个类为另一个类的子类："
   ]
  },
  {
   "cell_type": "code",
   "execution_count": 9,
   "id": "a564b237",
   "metadata": {},
   "outputs": [
    {
     "name": "stdout",
     "output_type": "stream",
     "text": [
      "两者的关系： False\n",
      "两者的关系： True\n"
     ]
    }
   ],
   "source": [
    "class Foo:\n",
    "    pass\n",
    "\n",
    "print(\"两者的关系：\", issubclass(Foo,Validator))\n",
    "Validator.register(Foo)\n",
    "print(\"两者的关系：\", issubclass(Foo,Validator))"
   ]
  },
  {
   "cell_type": "markdown",
   "id": "d54ac954",
   "metadata": {},
   "source": [
    "### 9.2.1 抽象方法\n",
    "\n",
    "用`@abstractmethod` 装饰类方法后，继承此类的类，必须实现被装饰的类方法"
   ]
  },
  {
   "cell_type": "code",
   "execution_count": 62,
   "id": "f4b725c3",
   "metadata": {},
   "outputs": [
    {
     "ename": "TypeError",
     "evalue": "Can't instantiate abstract class MyValidate with abstract method validate",
     "output_type": "error",
     "traceback": [
      "\u001b[0;31m---------------------------------------------------------------------------\u001b[0m",
      "\u001b[0;31mTypeError\u001b[0m                                 Traceback (most recent call last)",
      "Input \u001b[0;32mIn [62]\u001b[0m, in \u001b[0;36m<cell line: 14>\u001b[0;34m()\u001b[0m\n\u001b[1;32m     11\u001b[0m \u001b[38;5;28;01mclass\u001b[39;00m \u001b[38;5;21;01mMyValidate\u001b[39;00m(Validator):\n\u001b[1;32m     12\u001b[0m     \u001b[38;5;28;01mpass\u001b[39;00m\n\u001b[0;32m---> 14\u001b[0m obj \u001b[38;5;241m=\u001b[39m \u001b[43mMyValidate\u001b[49m\u001b[43m(\u001b[49m\u001b[43m)\u001b[49m\n",
      "\u001b[0;31mTypeError\u001b[0m: Can't instantiate abstract class MyValidate with abstract method validate"
     ]
    }
   ],
   "source": [
    "from abc import ABC, abstractmethod\n",
    "\n",
    "\n",
    "class Validator(ABC):\n",
    "    \n",
    "    @abstractmethod\n",
    "    def validate(self, value):\n",
    "        raise NotImplementedError\n",
    "        \n",
    "        \n",
    "class MyValidate(Validator):\n",
    "    pass\n",
    "\n",
    "obj = MyValidate()"
   ]
  },
  {
   "cell_type": "markdown",
   "id": "6817ecf8",
   "metadata": {},
   "source": [
    "### 9.2.2 多重继承与MRO\n",
    "\n",
    "Python支持多重继承，这让寻找父类更加复杂，其算法既不是广度优先，也不是深度优先："
   ]
  },
  {
   "cell_type": "code",
   "execution_count": 64,
   "id": "7ba6665f",
   "metadata": {},
   "outputs": [
    {
     "data": {
      "text/plain": [
       "[__main__.D, __main__.B, __main__.C, __main__.A, object]"
      ]
     },
     "execution_count": 64,
     "metadata": {},
     "output_type": "execute_result"
    }
   ],
   "source": [
    "class A:\n",
    "    def say(self):\n",
    "        print(\"Im A\")\n",
    "        \n",
    "class B(A):\n",
    "    def say(self):\n",
    "        print(\"Im B\")\n",
    "        \n",
    "class C(A):\n",
    "    def say(self):\n",
    "        print(\"Im C\")\n",
    "        \n",
    "class D(B,C):\n",
    "    def say(self):\n",
    "        print(\"Im D\")\n",
    "        \n",
    "\n",
    "D.mro()"
   ]
  },
  {
   "cell_type": "markdown",
   "id": "1916e3c0",
   "metadata": {},
   "source": [
    "上面的例子看起来像是广度优先？其实不然："
   ]
  },
  {
   "cell_type": "code",
   "execution_count": 66,
   "id": "4b0b1c65",
   "metadata": {},
   "outputs": [
    {
     "data": {
      "text/plain": [
       "[__main__.E, __main__.C, __main__.A, __main__.D, __main__.B, object]"
      ]
     },
     "execution_count": 66,
     "metadata": {},
     "output_type": "execute_result"
    }
   ],
   "source": [
    "class A:\n",
    "    def say(self):\n",
    "        print(\"Im A\")\n",
    "        \n",
    "class B:\n",
    "    def say(self):\n",
    "        print(\"Im B\")\n",
    "        \n",
    "class C(A):\n",
    "    def say(self):\n",
    "        print(\"Im C\")\n",
    "        \n",
    "class D(B):\n",
    "    def say(self):\n",
    "        print(\"Im D\")\n",
    "\n",
    "class E(C,D):\n",
    "    def say(self):\n",
    "        print(\"Im D\")\n",
    "\n",
    "E.mro()"
   ]
  },
  {
   "cell_type": "markdown",
   "id": "a13a8676",
   "metadata": {},
   "source": [
    "### 9.2.3 super()\n",
    "\n",
    "`super()`的真实含义，并不是直接调用父类的方法，而是MRO链条的下一个类。看下面的例子，如果真是直接调用其父类，那么就应该打印：`D->B->A`"
   ]
  },
  {
   "cell_type": "code",
   "execution_count": 72,
   "id": "62af6250",
   "metadata": {},
   "outputs": [
    {
     "name": "stdout",
     "output_type": "stream",
     "text": [
      "Im D\n",
      "Im B\n",
      "Im C\n"
     ]
    }
   ],
   "source": [
    "class A:\n",
    "    def __init__(self):\n",
    "        print(\"Im A\")\n",
    "        \n",
    "class B(A):\n",
    "    def __init__(self):\n",
    "        print(\"Im B\")\n",
    "        super().__init__()\n",
    "        \n",
    "class C(A):\n",
    "    def __init__(self):\n",
    "        print(\"Im C\")\n",
    "        \n",
    "class D(B,C):\n",
    "    def __init__(self):\n",
    "        print(\"Im D\")\n",
    "        super().__init__()\n",
    "        \n",
    "d = D()"
   ]
  },
  {
   "cell_type": "markdown",
   "id": "2833fd43",
   "metadata": {},
   "source": [
    "继承，是一件会让代码紧耦合的行为。要非常避免这样做。要对事物的行为建模，而不是对事物本身建模。把一些类行为直接定义为类，然后多使用组合，而不是继承。\n",
    "\n",
    "### 9.2.4 单例模式\n",
    "\n",
    "一般来说，单例模式可以用`__new__`方法来实现，还有种方法是`预绑定方法模式`：因为Python在执行`import` 导入模块时，被导入的模块会在内存中只保存一份。因此只需要在模块中创建一个全局对象：\n"
   ]
  },
  {
   "cell_type": "code",
   "execution_count": 73,
   "id": "10f93937",
   "metadata": {},
   "outputs": [
    {
     "name": "stdout",
     "output_type": "stream",
     "text": [
      "True\n"
     ]
    }
   ],
   "source": [
    "# 普通的单例模式\n",
    "class Single:\n",
    "    \"\"\"程序配置类，使用单例模式\"\"\"\n",
    "    \n",
    "    _instance = None\n",
    "    \n",
    "    def __new__(cls, *args, **kwargs):\n",
    "        if cls._instance is None:\n",
    "            inst = super().__new__(cls, *args, **kwargs)\n",
    "            _instance = inst\n",
    "        return cls._instance\n",
    "    def __init__(self):\n",
    "        pass\n",
    "    \n",
    "single1 = Single()\n",
    "single2 = Single()\n",
    "print(id(single1) == id(single2))"
   ]
  },
  {
   "cell_type": "code",
   "execution_count": null,
   "id": "8516f7b6",
   "metadata": {},
   "outputs": [],
   "source": [
    "# 利用模块特性\n",
    "\n",
    "class Single:\n",
    "    \n",
    "    def __init__(self):\n",
    "        pass\n",
    "    def foo1(self):\n",
    "        pass \n",
    "    def foo1(self):\n",
    "        pass \n",
    "    \n",
    "_single = Single()\n",
    "something = _single.foo1\n",
    "\n",
    "\n",
    "# 在需要用到它的地方\n",
    "from utils import something\n"
   ]
  },
  {
   "cell_type": "markdown",
   "id": "05c282fc",
   "metadata": {},
   "source": [
    "## 9.3 类型注解\n",
    "\n",
    "类型注解是一种给函数参数、返回值一集任何变量增加类型描述的技术。规范的注解可以大大提升代码可读性。`typing`常用的有：\n",
    "- `List`\n",
    "- `Dict`\n",
    "- `Callable`\n",
    "- `TextIO`\n",
    "- `Any`\n",
    "\n",
    "引入静态检查后，除了增加可读性，配合`mypy`还能提高代码正确性。\n",
    "\n",
    "Python3.8 中新增了`Protocol`类型，比抽象类更加接近传统意义上的接口。"
   ]
  },
  {
   "cell_type": "code",
   "execution_count": null,
   "id": "e936053d",
   "metadata": {},
   "outputs": [],
   "source": [
    "from typing import List\n",
    "import random\n",
    "\n",
    "class Duck:\n",
    "    def __init__(self, color: str):\n",
    "        self.color = color\n",
    "        \n",
    "\n",
    "def create_ducks(number:int)-> List[Duck]:\n",
    "    # 声明变量的时候也可以加上注解\n",
    "    ducks: List[Duck] = []\n",
    "    for _ in number:\n",
    "        color = random.choice(['yello', 'white', 'black'])\n",
    "        ducks.append(Duck(color=color))\n",
    "    return ducks"
   ]
  }
 ],
 "metadata": {
  "kernelspec": {
   "display_name": "Python 3 (ipykernel)",
   "language": "python",
   "name": "python3"
  },
  "language_info": {
   "codemirror_mode": {
    "name": "ipython",
    "version": 3
   },
   "file_extension": ".py",
   "mimetype": "text/x-python",
   "name": "python",
   "nbconvert_exporter": "python",
   "pygments_lexer": "ipython3",
   "version": "3.9.12"
  }
 },
 "nbformat": 4,
 "nbformat_minor": 5
}
