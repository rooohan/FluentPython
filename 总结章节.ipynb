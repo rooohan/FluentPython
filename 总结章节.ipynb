{
 "cells": [
  {
   "cell_type": "markdown",
   "id": "3f0bdbef",
   "metadata": {},
   "source": [
    "# 1. DeBug\n",
    "\n",
    "## 反汇编器`dis`\n",
    "\n",
    "使用内置的dis模块，查看函数的反汇编代码："
   ]
  },
  {
   "cell_type": "code",
   "execution_count": 2,
   "id": "3eafed56",
   "metadata": {},
   "outputs": [
    {
     "name": "stdout",
     "output_type": "stream",
     "text": [
      "  4           0 LOAD_FAST                0 (x)\n",
      "              2 LOAD_FAST                1 (y)\n",
      "              4 BINARY_ADD\n",
      "              6 LOAD_CONST               1 (264)\n",
      "              8 BINARY_ADD\n",
      "             10 RETURN_VALUE\n"
     ]
    }
   ],
   "source": [
    "import dis\n",
    "\n",
    "def add(x, y):\n",
    "    return x + y + 11*24\n",
    "\n",
    "dis.dis(add)"
   ]
  },
  {
   "cell_type": "markdown",
   "id": "4eaa7126",
   "metadata": {},
   "source": [
    "## 性能测试`timeit`\n",
    "性能测试，可以直接使用`timeit`模块"
   ]
  },
  {
   "cell_type": "code",
   "execution_count": 8,
   "id": "c58d4cef",
   "metadata": {},
   "outputs": [
    {
     "data": {
      "text/plain": [
       "0.13255862500000148"
      ]
     },
     "execution_count": 8,
     "metadata": {},
     "output_type": "execute_result"
    }
   ],
   "source": [
    "import timeit\n",
    "\n",
    "def foo():\n",
    "    add(1,2)\n",
    "\n",
    "# 默认执行100万次\n",
    "timeit.timeit(setup='from __main__ import foo',stmt = 'foo()', number=1000000)"
   ]
  },
  {
   "cell_type": "markdown",
   "id": "991fd443",
   "metadata": {},
   "source": [
    "圈复杂度：代表程序内线性独立路径的数量。值越大表示执行路径越多，逻辑越复杂。\n",
    "\n",
    "todo"
   ]
  },
  {
   "cell_type": "markdown",
   "id": "9e4da0de",
   "metadata": {},
   "source": [
    "# 2. 模块\n",
    "\n",
    "## 2.1 装饰器\n",
    "\n",
    "`@wrapt.decorator`函数实现的装饰器，有一个知名的问题。那就是如果装饰类里的方法，因为类方法默认第一个参数是`self`，会出现问题。此时可以使用此第三方库的，解决此问题。\n",
    "\n",
    "`@functools.wraps(func)`装饰函数，避免元数据覆盖。`functools.update_wrapper(self, function)`类专时期避免元数据覆盖\n",
    "\n",
    "`@lru_catche(max_size=None)`给函数增加缓存功能：如果某个函数的返回值相对于输入值是固定的，那么可以使用缓存功能，避免重复计算,max_size表示最多保存多少缓存结果。默认为128。\n",
    "\n",
    "\n",
    "`@property` 将类的方法转化成属性，并可以自定义属性的get set del；\n",
    "\n",
    "`@abstractmethod` 装饰类方法后，继承此类的类，必须实现被装饰的类方法\n",
    "\n"
   ]
  },
  {
   "cell_type": "code",
   "execution_count": null,
   "id": "2d7eb5a1",
   "metadata": {},
   "outputs": [],
   "source": []
  },
  {
   "cell_type": "markdown",
   "id": "dcc55a9c",
   "metadata": {},
   "source": [
    "## 2.2 functools\n",
    "\n",
    "`functools.reduce()` : reduce() 函数的第一个参数是接受两个参数的函数，第二个参数是一个可迭代的对象。假如有个接受两个参数的 $fn$ 函数和一个 lst 列表。调用 reduce(fn, lst) 时，$fn$ 会应用到第一对元素上，即 $fn(lst[0], lst[1])$，生成第一个结果 $r1$。然后，$fn$ 会应用到 $r1$ 和下一个元素 上，即$fn(r1, lst[2])$，生成第二个结果$r2$。接着，调用 $fn(r2, lst[3])$，生成 $r3$……直到最后一个元素，返回最后得到的结果 $rN$。"
   ]
  },
  {
   "cell_type": "code",
   "execution_count": 9,
   "id": "e0b94fe4",
   "metadata": {},
   "outputs": [
    {
     "data": {
      "text/plain": [
       "55"
      ]
     },
     "execution_count": 9,
     "metadata": {},
     "output_type": "execute_result"
    }
   ],
   "source": [
    "import functools as func\n",
    "\n",
    "func.reduce(lambda a, b: a+b, range(1,11))"
   ]
  },
  {
   "cell_type": "markdown",
   "id": "16625953",
   "metadata": {},
   "source": [
    "## 2.3 魔术方法\n",
    "\n",
    "`__init_subclass__` 是类的一个特殊钩子方法，当类在派生出子类时，会触发此方法。"
   ]
  },
  {
   "cell_type": "code",
   "execution_count": null,
   "id": "105b4647",
   "metadata": {},
   "outputs": [],
   "source": []
  }
 ],
 "metadata": {
  "kernelspec": {
   "display_name": "Python 3 (ipykernel)",
   "language": "python",
   "name": "python3"
  },
  "language_info": {
   "codemirror_mode": {
    "name": "ipython",
    "version": 3
   },
   "file_extension": ".py",
   "mimetype": "text/x-python",
   "name": "python",
   "nbconvert_exporter": "python",
   "pygments_lexer": "ipython3",
   "version": "3.9.12"
  }
 },
 "nbformat": 4,
 "nbformat_minor": 5
}
